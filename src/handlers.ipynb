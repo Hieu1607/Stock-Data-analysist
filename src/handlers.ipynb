{
 "cells": [
  {
   "cell_type": "markdown",
   "metadata": {},
   "source": [
    "# Get data from FireAnt\n"
   ]
  },
  {
   "cell_type": "markdown",
   "metadata": {},
   "source": [
    "## Import libraries"
   ]
  },
  {
   "cell_type": "code",
   "execution_count": null,
   "metadata": {},
   "outputs": [],
   "source": [
    "import pandas as pd\n",
    "import os\n",
    "from data_retrieve_methods.fetch_data_from_FireAnt import get_stock_data\n",
    "from data_retrieve_methods.fetch_data_from_Cafef import fetch_stock_data"
   ]
  },
  {
   "cell_type": "markdown",
   "metadata": {},
   "source": [
    "## Call API for fetching data for indexs"
   ]
  },
  {
   "cell_type": "code",
   "execution_count": 20,
   "metadata": {},
   "outputs": [
    {
     "name": "stdout",
     "output_type": "stream",
     "text": [
      "✅ File đã được lưu thành công\n"
     ]
    }
   ],
   "source": [
    "data_VNINDEX = get_stock_data(\"VNINDEX\", \"2025-01-01\", \"2025-03-07\")\n",
    "data_VN30 = get_stock_data(\"VN30\", \"2025-01-01\", \"2025-03-07\")\n",
    "data_VN30F1M = get_stock_data(\"VN30F1M\", \"2025-01-01\", \"2025-03-07\")\n",
    "data_VN30F2M = get_stock_data(\"VN30F2M\", \"2025-01-01\", \"2025-03-07\")\n",
    "\n",
    "df_VNINDEX = pd.DataFrame(data_VNINDEX)\n",
    "df_VN30 = pd.DataFrame(data_VN30)\n",
    "df_VN30F1M = pd.DataFrame(data_VN30F1M)\n",
    "df_VN30F2M = pd.DataFrame(data_VN30F2M)\n",
    "\n",
    "# Đường dẫn folder\n",
    "folder_path = \"../data/raw\"\n",
    "\n",
    "# Tạo thư mục nếu chưa tồn tại\n",
    "os.makedirs(folder_path, exist_ok=True)\n",
    "\n",
    "file_path_for_VNINDEX = os.path.join(folder_path, \"VNINDEX_stock_data.csv\")\n",
    "file_path_for_VN30 = os.path.join(folder_path, \"VN30_stock_data.csv\")\n",
    "file_path_for_VN30F1M = os.path.join(folder_path, \"VN30F1M_stock_data.csv\")\n",
    "file_path_for_VN30F2M = os.path.join(folder_path, \"VN30F2M_stock_data.csv\")\n",
    "\n",
    "# Lưu dataframe thành CSV\n",
    "df_VNINDEX.to_csv(file_path_for_VNINDEX, index=False, encoding=\"utf-8-sig\")\n",
    "df_VN30.to_csv(file_path_for_VN30, index=False, encoding=\"utf-8-sig\")\n",
    "df_VN30F1M.to_csv(file_path_for_VN30F1M, index=False, encoding=\"utf-8-sig\")\n",
    "df_VN30F2M.to_csv(file_path_for_VN30F2M, index=False, encoding=\"utf-8-sig\")\n",
    "\n",
    "print(f\"✅ File đã được lưu thành công\")\n"
   ]
  },
  {
   "cell_type": "markdown",
   "metadata": {},
   "source": [
    "## Call API for fetching data for specific tickets\n"
   ]
  },
  {
   "cell_type": "code",
   "execution_count": null,
   "metadata": {},
   "outputs": [],
   "source": [
    "data_VCB = fetch_stock_data(\"VCB\")\n",
    "data_VCB = fetch_stock_data(\"HPG\")\n",
    "data_VCB = fetch_stock_data(\"SSI\")\n",
    "data_VCB = fetch_stock_data(\"DIG\")"
   ]
  }
 ],
 "metadata": {
  "kernelspec": {
   "display_name": "Python 3",
   "language": "python",
   "name": "python3"
  },
  "language_info": {
   "codemirror_mode": {
    "name": "ipython",
    "version": 3
   },
   "file_extension": ".py",
   "mimetype": "text/x-python",
   "name": "python",
   "nbconvert_exporter": "python",
   "pygments_lexer": "ipython3",
   "version": "3.13.1"
  }
 },
 "nbformat": 4,
 "nbformat_minor": 2
}
