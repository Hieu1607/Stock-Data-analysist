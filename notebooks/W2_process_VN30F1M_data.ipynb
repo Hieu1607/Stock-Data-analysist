{
 "cells": [
  {
   "cell_type": "markdown",
   "metadata": {},
   "source": [
    "# Process VN30F1M data"
   ]
  },
  {
   "cell_type": "markdown",
   "metadata": {},
   "source": [
    "## Process missing data"
   ]
  },
  {
   "cell_type": "code",
   "execution_count": 1,
   "metadata": {},
   "outputs": [],
   "source": [
    "# Call libraries\n",
    "import pandas as pd\n",
    "import numpy as np\n",
    "import matplotlib.pyplot as plt\n",
    "import seaborn as sns\n",
    "import sys\n",
    "import os\n",
    "\n",
    "# Get the absolute path of the `src` folder\n",
    "src_path = os.path.abspath(os.path.join(os.getcwd(), \"..\", \"src\"))\n",
    "\n",
    "# Add `src` to the system path\n",
    "sys.path.insert(0, src_path)"
   ]
  },
  {
   "cell_type": "code",
   "execution_count": 2,
   "metadata": {},
   "outputs": [
    {
     "data": {
      "text/html": [
       "<div>\n",
       "<style scoped>\n",
       "    .dataframe tbody tr th:only-of-type {\n",
       "        vertical-align: middle;\n",
       "    }\n",
       "\n",
       "    .dataframe tbody tr th {\n",
       "        vertical-align: top;\n",
       "    }\n",
       "\n",
       "    .dataframe thead th {\n",
       "        text-align: right;\n",
       "    }\n",
       "</style>\n",
       "<table border=\"1\" class=\"dataframe\">\n",
       "  <thead>\n",
       "    <tr style=\"text-align: right;\">\n",
       "      <th></th>\n",
       "      <th>Ticker</th>\n",
       "      <th>DTYYYYMMDD</th>\n",
       "      <th>Open</th>\n",
       "      <th>High</th>\n",
       "      <th>Low</th>\n",
       "      <th>Close</th>\n",
       "      <th>Volume</th>\n",
       "    </tr>\n",
       "  </thead>\n",
       "  <tbody>\n",
       "    <tr>\n",
       "      <th>0</th>\n",
       "      <td>HNX:VN301!</td>\n",
       "      <td>20170810</td>\n",
       "      <td>757.9</td>\n",
       "      <td>757.9</td>\n",
       "      <td>745.5</td>\n",
       "      <td>745.9</td>\n",
       "      <td>367.0</td>\n",
       "    </tr>\n",
       "    <tr>\n",
       "      <th>1</th>\n",
       "      <td>HNX:VN301!</td>\n",
       "      <td>20170811</td>\n",
       "      <td>746.0</td>\n",
       "      <td>746.4</td>\n",
       "      <td>743.4</td>\n",
       "      <td>745.7</td>\n",
       "      <td>510.0</td>\n",
       "    </tr>\n",
       "    <tr>\n",
       "      <th>2</th>\n",
       "      <td>HNX:VN301!</td>\n",
       "      <td>20170814</td>\n",
       "      <td>745.9</td>\n",
       "      <td>748.9</td>\n",
       "      <td>745.7</td>\n",
       "      <td>748.9</td>\n",
       "      <td>707.0</td>\n",
       "    </tr>\n",
       "    <tr>\n",
       "      <th>3</th>\n",
       "      <td>HNX:VN301!</td>\n",
       "      <td>20170815</td>\n",
       "      <td>750.3</td>\n",
       "      <td>750.9</td>\n",
       "      <td>748.0</td>\n",
       "      <td>748.0</td>\n",
       "      <td>946.0</td>\n",
       "    </tr>\n",
       "    <tr>\n",
       "      <th>4</th>\n",
       "      <td>HNX:VN301!</td>\n",
       "      <td>20170816</td>\n",
       "      <td>747.7</td>\n",
       "      <td>748.4</td>\n",
       "      <td>745.1</td>\n",
       "      <td>748.1</td>\n",
       "      <td>1065.0</td>\n",
       "    </tr>\n",
       "  </tbody>\n",
       "</table>\n",
       "</div>"
      ],
      "text/plain": [
       "       Ticker  DTYYYYMMDD   Open   High    Low  Close  Volume\n",
       "0  HNX:VN301!    20170810  757.9  757.9  745.5  745.9   367.0\n",
       "1  HNX:VN301!    20170811  746.0  746.4  743.4  745.7   510.0\n",
       "2  HNX:VN301!    20170814  745.9  748.9  745.7  748.9   707.0\n",
       "3  HNX:VN301!    20170815  750.3  750.9  748.0  748.0   946.0\n",
       "4  HNX:VN301!    20170816  747.7  748.4  745.1  748.1  1065.0"
      ]
     },
     "execution_count": 2,
     "metadata": {},
     "output_type": "execute_result"
    }
   ],
   "source": [
    "df = pd.read_csv('../sample_data/VN30F1M.csv',sep='\\t')\n",
    "df.head()"
   ]
  },
  {
   "cell_type": "code",
   "execution_count": 3,
   "metadata": {},
   "outputs": [
    {
     "name": "stdout",
     "output_type": "stream",
     "text": [
      "<class 'pandas.core.frame.DataFrame'>\n",
      "RangeIndex: 1893 entries, 0 to 1892\n",
      "Data columns (total 7 columns):\n",
      " #   Column      Non-Null Count  Dtype  \n",
      "---  ------      --------------  -----  \n",
      " 0   Ticker      1893 non-null   object \n",
      " 1   DTYYYYMMDD  1893 non-null   int64  \n",
      " 2   Open        1893 non-null   float64\n",
      " 3   High        1893 non-null   float64\n",
      " 4   Low         1893 non-null   float64\n",
      " 5   Close       1893 non-null   float64\n",
      " 6   Volume      1893 non-null   float64\n",
      "dtypes: float64(5), int64(1), object(1)\n",
      "memory usage: 103.7+ KB\n"
     ]
    }
   ],
   "source": [
    "df.info()"
   ]
  },
  {
   "cell_type": "code",
   "execution_count": 5,
   "metadata": {},
   "outputs": [
    {
     "name": "stdout",
     "output_type": "stream",
     "text": [
      "Done! Missing data has been filled using the selected method.\n",
      "<class 'pandas.core.frame.DataFrame'>\n",
      "RangeIndex: 1979 entries, 0 to 1978\n",
      "Data columns (total 7 columns):\n",
      " #   Column      Non-Null Count  Dtype         \n",
      "---  ------      --------------  -----         \n",
      " 0   DTYYYYMMDD  1979 non-null   datetime64[ns]\n",
      " 1   Ticker      1979 non-null   object        \n",
      " 2   Open        1979 non-null   float64       \n",
      " 3   High        1979 non-null   float64       \n",
      " 4   Low         1979 non-null   float64       \n",
      " 5   Close       1979 non-null   float64       \n",
      " 6   Volume      1979 non-null   float64       \n",
      "dtypes: datetime64[ns](1), float64(5), object(1)\n",
      "memory usage: 108.4+ KB\n"
     ]
    },
    {
     "name": "stderr",
     "output_type": "stream",
     "text": [
      "c:\\Users\\HP\\Desktop\\Stock-Data-analysist\\src\\process\\process_missing_data.py:43: FutureWarning: DataFrame.interpolate with object dtype is deprecated and will raise in a future version. Call obj.infer_objects(copy=False) before interpolating instead.\n",
      "  df_filled.iloc[:, 1:] = df_filled.iloc[:, 1:].interpolate(method='linear', limit_direction='both')\n"
     ]
    }
   ],
   "source": [
    "from process.process_missing_data import process_missing_data\n",
    "\n",
    "# Process missing data , extrapolation method is default\n",
    "new_df = process_missing_data('../sample_data/VN30F1M.csv')\n",
    "new_df.info()"
   ]
  },
  {
   "cell_type": "code",
   "execution_count": 6,
   "metadata": {},
   "outputs": [],
   "source": [
    "from process.process_outliers import detect_outliers, process_outliers\n",
    "\n",
    "# Detect outliers\n",
    "detected_outliers_df = detect_outliers(new_df, 'second_largest',column='Close')\n",
    "\n",
    "# Process outliers\n",
    "processed_outliers_df = process_outliers(detected_outliers_df, 'replace_second_largest', column='Close')"
   ]
  },
  {
   "cell_type": "code",
   "execution_count": 8,
   "metadata": {},
   "outputs": [],
   "source": [
    "current_dir = os.getcwd()  # Get the current working directory (where the notebook is running)\n",
    "project_root = os.path.dirname(current_dir)  # Go up one level to the project root\n",
    "\n",
    "# Define the path to data/processed relative to the project root\n",
    "raw_data_path = os.path.join(project_root, \"data\", \"processed\")\n",
    "os.makedirs(raw_data_path, exist_ok=True)  # Ensure the directory exists\n",
    "\n",
    "# Define the file path for the CSV\n",
    "file_path = os.path.join(raw_data_path, f\"processed_VN30F1M_data.csv\")\n",
    "processed_outliers_df.to_csv(file_path, index=False, encoding='utf-8')"
   ]
  },
  {
   "cell_type": "code",
   "execution_count": null,
   "metadata": {},
   "outputs": [],
   "source": []
  }
 ],
 "metadata": {
  "kernelspec": {
   "display_name": "Python 3",
   "language": "python",
   "name": "python3"
  },
  "language_info": {
   "codemirror_mode": {
    "name": "ipython",
    "version": 3
   },
   "file_extension": ".py",
   "mimetype": "text/x-python",
   "name": "python",
   "nbconvert_exporter": "python",
   "pygments_lexer": "ipython3",
   "version": "3.13.1"
  }
 },
 "nbformat": 4,
 "nbformat_minor": 2
}
