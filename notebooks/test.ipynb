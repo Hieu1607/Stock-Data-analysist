{
 "cells": [
  {
   "cell_type": "code",
   "execution_count": 1,
   "id": "bc8afd4a",
   "metadata": {},
   "outputs": [
    {
     "name": "stdout",
     "output_type": "stream",
     "text": [
      "Epoch 1/5\n",
      "1875/1875 [==============================] - 1s 397us/step - loss: nan - accuracy: 0.0987\n",
      "Epoch 2/5\n",
      "1875/1875 [==============================] - 1s 392us/step - loss: nan - accuracy: 0.0987\n",
      "Epoch 3/5\n",
      "1875/1875 [==============================] - 1s 393us/step - loss: nan - accuracy: 0.0987\n",
      "Epoch 4/5\n",
      "1875/1875 [==============================] - 1s 394us/step - loss: nan - accuracy: 0.0987\n",
      "Epoch 5/5\n",
      "1875/1875 [==============================] - 1s 399us/step - loss: nan - accuracy: 0.0987\n",
      "313/313 - 0s - loss: nan - accuracy: 0.0980\n",
      "TensorFlow is working correctly!\n"
     ]
    }
   ],
   "source": [
    "import tensorflow as tf\n",
    "\n",
    "# Load MNIST dataset\n",
    "mnist = tf.keras.datasets.mnist\n",
    "(x_train, y_train), (x_test, y_test) = mnist.load_data()\n",
    "\n",
    "# Normalize the data\n",
    "x_train, x_test = x_train / 255.0, x_test / 255.0\n",
    "\n",
    "# Build a simple model\n",
    "model = tf.keras.models.Sequential([\n",
    "    tf.keras.layers.Flatten(input_shape=(28, 28)),\n",
    "    tf.keras.layers.Dense(128, activation='relu'),\n",
    "    tf.keras.layers.Dropout(0.2),\n",
    "    tf.keras.layers.Dense(10, activation='softmax')\n",
    "])\n",
    "\n",
    "# Compile the model\n",
    "model.compile(optimizer='adam',\n",
    "              loss='sparse_categorical_crossentropy',\n",
    "              metrics=['accuracy'])\n",
    "\n",
    "# Train the model\n",
    "model.fit(x_train, y_train, epochs=5)\n",
    "\n",
    "# Evaluate the model\n",
    "model.evaluate(x_test, y_test, verbose=2)\n",
    "\n",
    "print(\"TensorFlow is working correctly!\")"
   ]
  },
  {
   "cell_type": "code",
   "execution_count": null,
   "id": "c86bcf2b",
   "metadata": {},
   "outputs": [],
   "source": []
  }
 ],
 "metadata": {
  "kernelspec": {
   "display_name": "tf_gpu",
   "language": "python",
   "name": "python3"
  },
  "language_info": {
   "codemirror_mode": {
    "name": "ipython",
    "version": 3
   },
   "file_extension": ".py",
   "mimetype": "text/x-python",
   "name": "python",
   "nbconvert_exporter": "python",
   "pygments_lexer": "ipython3",
   "version": "3.8.20"
  }
 },
 "nbformat": 4,
 "nbformat_minor": 5
}
