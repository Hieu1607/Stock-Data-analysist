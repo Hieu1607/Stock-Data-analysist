{
 "cells": [
  {
   "cell_type": "markdown",
   "metadata": {},
   "source": [
    "# Get data from FireAnt\n"
   ]
  },
  {
   "cell_type": "markdown",
   "metadata": {},
   "source": [
    "## Import libraries"
   ]
  },
  {
   "cell_type": "code",
   "execution_count": 1,
   "metadata": {},
   "outputs": [
    {
     "name": "stdout",
     "output_type": "stream",
     "text": [
      "sys.path: ['c:\\\\Users\\\\HP\\\\Desktop\\\\Stock-Data-analysist\\\\src', 'c:\\\\Python313\\\\python313.zip', 'c:\\\\Python313\\\\DLLs', 'c:\\\\Python313\\\\Lib', 'c:\\\\Python313', '', 'C:\\\\Users\\\\HP\\\\AppData\\\\Roaming\\\\Python\\\\Python313\\\\site-packages', 'C:\\\\Users\\\\HP\\\\AppData\\\\Roaming\\\\Python\\\\Python313\\\\site-packages\\\\win32', 'C:\\\\Users\\\\HP\\\\AppData\\\\Roaming\\\\Python\\\\Python313\\\\site-packages\\\\win32\\\\lib', 'C:\\\\Users\\\\HP\\\\AppData\\\\Roaming\\\\Python\\\\Python313\\\\site-packages\\\\Pythonwin', 'c:\\\\Python313\\\\Lib\\\\site-packages']\n"
     ]
    }
   ],
   "source": [
    "import sys\n",
    "import os\n",
    "\n",
    "# Get the absolute path of the `src` folder\n",
    "src_path = os.path.abspath(os.path.join(os.getcwd(), \"..\", \"src\"))\n",
    "\n",
    "# Add `src` to the system path\n",
    "sys.path.insert(0, src_path)\n",
    "\n",
    "print(\"sys.path:\", sys.path)\n"
   ]
  },
  {
   "cell_type": "code",
   "execution_count": 2,
   "metadata": {},
   "outputs": [],
   "source": [
    "import sys\n",
    "import os\n",
    "\n",
    "# Get the absolute path of the `src` folder\n",
    "src_path = os.path.abspath(os.path.join(os.getcwd(), \"..\", \"src\"))\n",
    "\n",
    "# Add `src` to the system path\n",
    "sys.path.insert(0, src_path)\n",
    "\n",
    "from data_retrieve_methods.fetch_data_from_FireAnt import get_stock_data\n",
    "from data_retrieve_methods.fetch_data_from_Cafef import fetch_stock_data\n"
   ]
  },
  {
   "cell_type": "markdown",
   "metadata": {},
   "source": [
    "## Call API for fetching data for indexs"
   ]
  },
  {
   "cell_type": "code",
   "execution_count": 3,
   "metadata": {},
   "outputs": [
    {
     "name": "stdout",
     "output_type": "stream",
     "text": [
      "Data for VNINDEX saved to c:\\Users\\HP\\Desktop\\Stock-Data-analysist\\data\\raw\\VNINDEX_stock_data.csv\n",
      "Data for VN30 saved to c:\\Users\\HP\\Desktop\\Stock-Data-analysist\\data\\raw\\VN30_stock_data.csv\n",
      "Data for VN30F1M saved to c:\\Users\\HP\\Desktop\\Stock-Data-analysist\\data\\raw\\VN30F1M_stock_data.csv\n",
      "Data for VN30F2M saved to c:\\Users\\HP\\Desktop\\Stock-Data-analysist\\data\\raw\\VN30F2M_stock_data.csv\n",
      "✅ File đã được lưu thành công\n"
     ]
    }
   ],
   "source": [
    "from datetime import date\n",
    "current_day = date.today()\n",
    "\n",
    "data_VNINDEX = get_stock_data(\"VNINDEX\", \"2025-01-01\", current_day)\n",
    "data_VN30 = get_stock_data(\"VN30\", \"2025-01-01\", current_day)\n",
    "data_VN30F1M = get_stock_data(\"VN30F1M\", \"2025-01-01\", current_day)\n",
    "data_VN30F2M = get_stock_data(\"VN30F2M\", \"2025-01-01\", current_day)\n",
    "\n",
    "print(f\"✅ File đã được lưu thành công\")\n"
   ]
  },
  {
   "cell_type": "markdown",
   "metadata": {},
   "source": [
    "## Call API for fetching data for specific tickets\n"
   ]
  },
  {
   "cell_type": "code",
   "execution_count": 4,
   "metadata": {},
   "outputs": [
    {
     "name": "stdout",
     "output_type": "stream",
     "text": [
      "Data for VCB saved to c:\\Users\\HP\\Desktop\\Stock-Data-analysist\\data\\raw\\VCB_stock_data.csv\n",
      "Data for HPG saved to c:\\Users\\HP\\Desktop\\Stock-Data-analysist\\data\\raw\\HPG_stock_data.csv\n",
      "Data for SSI saved to c:\\Users\\HP\\Desktop\\Stock-Data-analysist\\data\\raw\\SSI_stock_data.csv\n",
      "Data for DIG saved to c:\\Users\\HP\\Desktop\\Stock-Data-analysist\\data\\raw\\DIG_stock_data.csv\n",
      "✅ File đã được lưu thành công\n"
     ]
    }
   ],
   "source": [
    "data_VCB = fetch_stock_data(\"VCB\")\n",
    "data_HPG = fetch_stock_data(\"HPG\")\n",
    "data_SSI = fetch_stock_data(\"SSI\")\n",
    "data_DIG = fetch_stock_data(\"DIG\")\n",
    "\n",
    "print(f\"✅ File đã được lưu thành công\")"
   ]
  }
 ],
 "metadata": {
  "kernelspec": {
   "display_name": "Python 3",
   "language": "python",
   "name": "python3"
  },
  "language_info": {
   "codemirror_mode": {
    "name": "ipython",
    "version": 3
   },
   "file_extension": ".py",
   "mimetype": "text/x-python",
   "name": "python",
   "nbconvert_exporter": "python",
   "pygments_lexer": "ipython3",
   "version": "3.13.1"
  }
 },
 "nbformat": 4,
 "nbformat_minor": 2
}
