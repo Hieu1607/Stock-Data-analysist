{
 "cells": [
  {
   "cell_type": "markdown",
   "metadata": {},
   "source": [
    "# Get data from FireAnt\n"
   ]
  },
  {
   "cell_type": "markdown",
   "metadata": {},
   "source": [
    "## Import libraries"
   ]
  },
  {
   "cell_type": "code",
   "execution_count": 5,
   "metadata": {},
   "outputs": [
    {
     "name": "stdout",
     "output_type": "stream",
     "text": [
      "sys.path: ['c:\\\\Users\\\\HP\\\\Desktop\\\\Stock-Data-analysist\\\\src', 'c:\\\\Users\\\\HP\\\\Desktop\\\\Stock-Data-analysist\\\\src', 'c:\\\\Users\\\\HP\\\\Desktop\\\\Stock-Data-analysist\\\\src', 'c:\\\\Python313\\\\python313.zip', 'c:\\\\Python313\\\\DLLs', 'c:\\\\Python313\\\\Lib', 'c:\\\\Python313', '', 'C:\\\\Users\\\\HP\\\\AppData\\\\Roaming\\\\Python\\\\Python313\\\\site-packages', 'C:\\\\Users\\\\HP\\\\AppData\\\\Roaming\\\\Python\\\\Python313\\\\site-packages\\\\win32', 'C:\\\\Users\\\\HP\\\\AppData\\\\Roaming\\\\Python\\\\Python313\\\\site-packages\\\\win32\\\\lib', 'C:\\\\Users\\\\HP\\\\AppData\\\\Roaming\\\\Python\\\\Python313\\\\site-packages\\\\Pythonwin', 'c:\\\\Python313\\\\Lib\\\\site-packages']\n"
     ]
    }
   ],
   "source": [
    "import sys\n",
    "import os\n",
    "\n",
    "# Get the absolute path of the `src` folder\n",
    "src_path = os.path.abspath(os.path.join(os.getcwd(), \"..\", \"src\"))\n",
    "\n",
    "# Add `src` to the system path\n",
    "sys.path.insert(0, src_path)\n",
    "\n",
    "print(\"sys.path:\", sys.path)  # Debugging: Print all paths\n"
   ]
  },
  {
   "cell_type": "code",
   "execution_count": 6,
   "metadata": {},
   "outputs": [],
   "source": [
    "import sys\n",
    "import os\n",
    "\n",
    "# Get the absolute path of the `src` folder\n",
    "src_path = os.path.abspath(os.path.join(os.getcwd(), \"..\", \"src\"))\n",
    "\n",
    "# Add `src` to the system path\n",
    "sys.path.insert(0, src_path)\n",
    "\n",
    "import pandas as pd\n",
    "\n",
    "# Correct import statement (fix case sensitivity)\n",
    "from data_retrieve_methods.fetch_data_from_FireAnt import get_stock_data\n",
    "from data_retrieve_methods.fetch_data_from_Cafef import fetch_stock_data\n"
   ]
  },
  {
   "cell_type": "markdown",
   "metadata": {},
   "source": [
    "## Call API for fetching data for indexs"
   ]
  },
  {
   "cell_type": "code",
   "execution_count": 7,
   "metadata": {},
   "outputs": [
    {
     "name": "stdout",
     "output_type": "stream",
     "text": [
      "Lỗi khi truy xuất dữ liệu: 401 Client Error: Unauthorized for url: https://restv2.fireant.vn/symbols/VNINDEX/historical-quotes?startDate=2025-01-01&endDate=2025-03-15&offset=0&limit=1000\n",
      "Lỗi khi truy xuất dữ liệu: 401 Client Error: Unauthorized for url: https://restv2.fireant.vn/symbols/VN30/historical-quotes?startDate=2025-01-01&endDate=2025-03-15&offset=0&limit=1000\n",
      "Lỗi khi truy xuất dữ liệu: 401 Client Error: Unauthorized for url: https://restv2.fireant.vn/symbols/VN30F1M/historical-quotes?startDate=2025-01-01&endDate=2025-03-15&offset=0&limit=1000\n",
      "Lỗi khi truy xuất dữ liệu: 401 Client Error: Unauthorized for url: https://restv2.fireant.vn/symbols/VN30F2M/historical-quotes?startDate=2025-01-01&endDate=2025-03-15&offset=0&limit=1000\n",
      "✅ File đã được lưu thành công\n"
     ]
    }
   ],
   "source": [
    "from datetime import date\n",
    "current_day = date.today()\n",
    "\n",
    "data_VNINDEX = get_stock_data(\"VNINDEX\", \"2025-01-01\", current_day)\n",
    "data_VN30 = get_stock_data(\"VN30\", \"2025-01-01\", current_day)\n",
    "data_VN30F1M = get_stock_data(\"VN30F1M\", \"2025-01-01\", current_day)\n",
    "data_VN30F2M = get_stock_data(\"VN30F2M\", \"2025-01-01\", current_day)\n",
    "\n",
    "print(f\"✅ File đã được lưu thành công\")\n"
   ]
  },
  {
   "cell_type": "markdown",
   "metadata": {},
   "source": [
    "## Call API for fetching data for specific tickets\n"
   ]
  },
  {
   "cell_type": "code",
   "execution_count": 8,
   "metadata": {},
   "outputs": [
    {
     "name": "stdout",
     "output_type": "stream",
     "text": [
      "✅ File đã được lưu thành công\n"
     ]
    }
   ],
   "source": [
    "data_VCB = fetch_stock_data(\"VCB\")\n",
    "data_HPG = fetch_stock_data(\"HPG\")\n",
    "data_SSI = fetch_stock_data(\"SSI\")\n",
    "data_DIG = fetch_stock_data(\"DIG\")\n",
    "\n",
    "print(f\"✅ File đã được lưu thành công\")"
   ]
  }
 ],
 "metadata": {
  "kernelspec": {
   "display_name": "Python 3",
   "language": "python",
   "name": "python3"
  },
  "language_info": {
   "codemirror_mode": {
    "name": "ipython",
    "version": 3
   },
   "file_extension": ".py",
   "mimetype": "text/x-python",
   "name": "python",
   "nbconvert_exporter": "python",
   "pygments_lexer": "ipython3",
   "version": "3.13.1"
  }
 },
 "nbformat": 4,
 "nbformat_minor": 2
}
