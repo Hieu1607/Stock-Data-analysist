{
 "cells": [
  {
   "cell_type": "markdown",
   "metadata": {},
   "source": [
    "# Add features for all tickers"
   ]
  },
  {
   "cell_type": "code",
   "execution_count": 2,
   "metadata": {},
   "outputs": [],
   "source": [
    "# import libraries\n",
    "import pandas as pd \n",
    "import sys\n",
    "import os\n",
    "import warnings\n",
    "\n",
    "warnings.simplefilter(action='ignore', category=FutureWarning) # Ignore all future warning\n",
    "\n",
    "pd.set_option('display.width', 200)  # Increase total display width\n",
    "pd.set_option('display.max_columns', None)  # Show all columns\n",
    "pd.set_option('display.max_rows', None)  # Show all rows\n",
    "\n",
    "# Get the absolute path of the `src` folder\n",
    "src_path = os.path.abspath(os.path.join(os.getcwd(), \"..\", \"src\"))\n",
    "\n",
    "# Add `src` to the system path\n",
    "sys.path.insert(0, src_path)"
   ]
  },
  {
   "cell_type": "markdown",
   "metadata": {},
   "source": [
    "## Add features for specific company"
   ]
  },
  {
   "cell_type": "code",
   "execution_count": null,
   "metadata": {},
   "outputs": [],
   "source": [
    "from add_features.add_features_for_specific_company import add_features_for_specific_company\n",
    "from get_company_names.get_VN100_company_names import get_VN100_company_names\n",
    "from get_company_names.get_VN30_company_names import get_VN30_company_names\n",
    "\n",
    "# We will not save it now , just watch it \n",
    "df = pd.read_csv('../data/processed/processed_sample_data.csv')\n",
    "for ticker in get_VN100_company_names():\n",
    "    ticker_df = add_features_for_specific_company(df,ticker)\n",
    "    print(ticker_df.head())\n",
    "for ticker in get_VN30_company_names():\n",
    "    ticker_df = add_features_for_specific_company(df,ticker)\n",
    "    print(ticker_df.head())\n"
   ]
  },
  {
   "cell_type": "markdown",
   "metadata": {},
   "source": [
    "## Add features for VNINDEX and VN30F1M"
   ]
  },
  {
   "cell_type": "code",
   "execution_count": 3,
   "metadata": {},
   "outputs": [
    {
     "name": "stdout",
     "output_type": "stream",
     "text": [
      "  DTYYYYMMDD   Ticker     Open     High      Low    Close   Volume  Outlier  Net_advances  A/D   Schultz  EMA19_net_adv  EMA39_net_adv  McClellan_Oscillator      TRIN  StockAboveMA50         MA5  \\\n",
      "0 2000-07-28  VNINDEX  100.000  100.000  100.000  100.000   4200.0    False             0  0.0  0.000000         0.0000       0.000000              0.000000  0.359447               0  100.000000   \n",
      "1 2000-07-31  VNINDEX  101.550  101.550  101.550  101.550  10300.0    False             1  0.0  0.010526         0.1000       0.050000              0.050000  0.359447               1  100.775000   \n",
      "2 2000-08-01  VNINDEX  102.465  102.465  102.465  102.465   5300.0    False             1  0.0  0.010526         0.1900       0.097500              0.092500  0.359447               1  101.338333   \n",
      "3 2000-08-02  VNINDEX  103.380  103.380  103.380  103.380    300.0    False             1  0.0  0.010526         0.2710       0.142625              0.128375  0.359447               1  101.848750   \n",
      "4 2000-08-03  VNINDEX  104.290  104.290  104.290  104.290   2000.0    False             1  0.0  0.010526         0.3439       0.185494              0.158406  0.359447               1  102.337000   \n",
      "\n",
      "         EMA5        MA10       EMA10        MA20       EMA20        MA50       EMA50       MA100      EMA100       MA200      EMA200  \n",
      "0  100.000000  100.000000  100.000000  100.000000  100.000000  100.000000  100.000000  100.000000  100.000000  100.000000  100.000000  \n",
      "1  100.516667  100.775000  100.281818  100.775000  100.147619  100.775000  100.060784  100.775000  100.030693  100.775000  100.015423  \n",
      "2  101.166111  101.338333  100.678760  101.338333  100.368322  101.338333  100.155067  101.338333  100.078897  101.338333  100.039797  \n",
      "3  101.904074  101.848750  101.169895  101.848750  100.655148  101.848750  100.281535  101.848750  100.144266  101.848750  100.073033  \n",
      "4  102.699383  102.337000  101.737187  102.337000  101.001325  102.337000  100.438730  102.337000  100.226359  102.337000  100.114993  \n",
      "  DTYYYYMMDD   Ticker   Open   High    Low  Close  Volume Outlier  Net_advances       A/D   Schultz  EMA19_net_adv  EMA39_net_adv  McClellan_Oscillator      TRIN  StockAboveMA50         MA5  \\\n",
      "0 2017-08-10  VN30F1M  757.9  757.9  745.5  745.9   367.0   False             3  1.428571  0.333333         3.0000       3.000000              0.000000  2.059599              10  745.900000   \n",
      "1 2017-08-11  VN30F1M  746.0  746.4  743.4  745.7   510.0   False             0  1.000000  0.233333         2.7000       2.850000             -0.150000  1.034334              10  745.800000   \n",
      "2 2017-08-14  VN30F1M  745.9  748.9  745.7  748.9   707.0   False            11  6.500000  0.433333         3.5300       3.257500              0.272500  0.286969              10  746.833333   \n",
      "3 2017-08-15  VN30F1M  750.3  750.9  748.0  748.0   946.0   False           -10  0.230769  0.100000         2.1770       2.594625             -0.417625  2.722224               9  747.125000   \n",
      "4 2017-08-16  VN30F1M  747.7  748.4  745.1  748.1  1065.0   False             2  1.285714  0.300000         2.1593       2.564894             -0.405594  0.822053              10  747.320000   \n",
      "\n",
      "         EMA5        MA10       EMA10        MA20       EMA20        MA50       EMA50       MA100      EMA100       MA200      EMA200  \n",
      "0  745.900000  745.900000  745.900000  745.900000  745.900000  745.900000  745.900000  745.900000  745.900000  745.900000  745.900000  \n",
      "1  745.833333  745.800000  745.863636  745.800000  745.880952  745.800000  745.892157  745.800000  745.896040  745.800000  745.898010  \n",
      "2  746.855556  746.833333  746.415702  746.833333  746.168481  746.833333  746.010111  746.833333  745.955524  746.833333  745.927880  \n",
      "3  747.237037  747.125000  746.703757  747.125000  746.342911  747.125000  746.088146  747.125000  745.996009  747.125000  745.948499  \n",
      "4  747.524691  747.320000  746.957619  747.320000  746.510253  747.320000  746.167043  747.320000  746.037672  747.320000  745.969907  \n"
     ]
    }
   ],
   "source": [
    "from add_features.add_features_for_group_index import add_features_for_group_index\n",
    "\n",
    "# We will not save it now , just watch it \n",
    "df1 = pd.read_csv('../data/processed/processed_sample_data.csv')\n",
    "df2 = pd.read_csv('../data/processed/processed_VN30F1M_data.csv')\n",
    "df = pd.concat([df1,df2],axis=0)\n",
    "df.reset_index(drop=True, inplace=True)\n",
    "VNINDEX_df = add_features_for_group_index(df,'VNINDEX')\n",
    "print(VNINDEX_df.head())\n",
    "VN30F1M_df = add_features_for_group_index(df,'VN30F1M')\n",
    "print(VN30F1M_df.head())"
   ]
  },
  {
   "cell_type": "code",
   "execution_count": null,
   "metadata": {},
   "outputs": [],
   "source": []
  }
 ],
 "metadata": {
  "kernelspec": {
   "display_name": "Python 3",
   "language": "python",
   "name": "python3"
  },
  "language_info": {
   "codemirror_mode": {
    "name": "ipython",
    "version": 3
   },
   "file_extension": ".py",
   "mimetype": "text/x-python",
   "name": "python",
   "nbconvert_exporter": "python",
   "pygments_lexer": "ipython3",
   "version": "3.13.1"
  }
 },
 "nbformat": 4,
 "nbformat_minor": 2
}
